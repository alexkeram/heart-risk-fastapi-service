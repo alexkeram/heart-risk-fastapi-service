{
 "cells": [
  {
   "cell_type": "markdown",
   "id": "1985876ed58bbc12",
   "metadata": {},
   "source": [
    "# Project M1: Heart Disease Risk Prediction\n",
    "\n",
    "## Introduction\n",
    "\n",
    "This project is part of a Data Science course and focuses on developing a machine learning model to predict the risk of heart disease in patients.\n",
    "We have a training dataset with medical indicators and patient habits, as well as a test dataset without labels.\n",
    "\n",
    "Main goals of the project:\n",
    "- explore the data and identify key factors that influence heart attack risk;\n",
    "- perform preprocessing and detect target leakage;\n",
    "- build and compare several models (sklearn, CatBoost);\n",
    "- choose the optimal quality metric and explain the choice;\n",
    "- prepare a reproducible ML pipeline with the ability to perform inference on new data.\n",
    "\n",
    "## Final solution format\n",
    "\n",
    "As a result, the project should include:\n",
    "- a Jupyter Notebook with EDA, data analysis, and model training results;\n",
    "- a library (Python modules) containing classes for data processing and inference;\n",
    "- a FastAPI web application that accepts data and returns predictions;\n",
    "- model artifacts in `joblib` format (for sklearn) and `cbm` (for CatBoost) with a meta file `artifacts/best_meta.json` for loading;\n",
    "- predictions on the test set in `.csv` format with columns `id` and `prediction`;\n",
    "- documentation with instructions for running the application.\n",
    "\n",
    "## Tech stack\n",
    "\n",
    "- Python (OOP, modular architecture)\n",
    "- Pandas, NumPy\n",
    "- scikit-learn\n",
    "- CatBoost\n",
    "- FastAPI\n",
    "- HTML\n",
    "\n",
    "## Metrics\n",
    "\n",
    "Since the task deals with medical diagnostics, the emphasis is on **Recall/Sensitivity**: it is important to minimize the number of missed high-risk patients. Precision, F-score, and ROC-AUC were also considered for a comprehensive evaluation.\n",
    "\n",
    "---\n",
    "\n",
    "Next steps in the notebook:\n",
    "1. Familiarization with the data (EDA).\n",
    "2. Preprocessing (type casting, handling missing values, processing correlations and leakage).\n",
    "3. Model training and hyperparameter tuning.\n",
    "4. Metric selection and justification.\n",
    "5. Preparing artifacts for inference.\n",
    "\n",
    "---"
   ]
  },
  {
   "cell_type": "code",
   "execution_count": null,
   "id": "1e53b366a47d496d",
   "metadata": {
    "ExecuteTime": {
     "end_time": "2025-08-21T17:23:55.724540Z",
     "start_time": "2025-08-21T17:23:39.050825Z"
    }
   },
   "outputs": [],
   "source": [
    "# ==== Imports ====\n",
    "import warnings\n",
    "import uvicorn, nest_asyncio\n",
    "from pathlib import Path\n",
    "import pandas as pd\n",
    "# ==== Local Modules ====\n",
    "from eda_analyzer import EDAAnalyzer\n",
    "from quick_view import QuickView\n",
    "from heart_runner import RunCfg\n",
    "from heart_job import HeartRiskJob\n",
    "from inference_utils import HeartRiskInference\n",
    "from app.main import app, _choose_free_port\n",
    "from src.inference_reporter import SimpleInferenceSummary\n",
    "\n",
    "# ==== Settings ====\n",
    "warnings.filterwarnings(\"ignore\")\n"
   ]
  },
  {
   "cell_type": "code",
   "execution_count": null,
   "id": "3cedd8a003c9ab84",
   "metadata": {
    "ExecuteTime": {
     "end_time": "2025-08-21T17:23:55.787150Z",
     "start_time": "2025-08-21T17:23:55.728818Z"
    }
   },
   "outputs": [],
   "source": [
    "# === Path configuration ===\n",
    "DATA_DIR = Path.cwd().parent / \"data\"\n",
    "\n",
    "TRAIN_PATH = DATA_DIR / \"heart_train.csv\"\n",
    "TEST_PATH = DATA_DIR / \"heart_test.csv\"\n",
    "TARGET = \"Heart Attack Risk (Binary)\"\n",
    "\n",
    "# === Data loading ===\n",
    "train_df = pd.read_csv(TRAIN_PATH)\n",
    "test_df = pd.read_csv(TEST_PATH)\n"
   ]
  },
  {
   "cell_type": "code",
   "execution_count": null,
   "id": "75548e20d27be3a3",
   "metadata": {
    "ExecuteTime": {
     "end_time": "2025-08-21T17:23:58.705008Z",
     "start_time": "2025-08-21T17:23:55.790702Z"
    }
   },
   "outputs": [],
   "source": [
    "# === Quick overview of train ===\n",
    "preeda = QuickView(train_df, target=\"Heart Attack Risk (Binary)\").report()\n",
    "\n"
   ]
  },
  {
   "cell_type": "code",
   "execution_count": null,
   "id": "3f3792cfc1c8cc33",
   "metadata": {
    "ExecuteTime": {
     "end_time": "2025-08-21T17:24:00.706785Z",
     "start_time": "2025-08-21T17:23:58.959389Z"
    }
   },
   "outputs": [],
   "source": [
    "# === Quick overview of test (without target) ===\n",
    "QuickView(test_df, target=\"Heart Attack Risk (Binary)\").report()\n"
   ]
  },
  {
   "cell_type": "code",
   "execution_count": null,
   "id": "a4cc1ab83badb277",
   "metadata": {
    "ExecuteTime": {
     "end_time": "2025-08-21T17:24:00.778731Z",
     "start_time": "2025-08-21T17:24:00.722351Z"
    }
   },
   "outputs": [],
   "source": [
    "# EDA analysis\n",
    "eda = EDAAnalyzer(train_df, target_col=\"Heart Attack Risk (Binary)\")\n",
    "eda.report()\n"
   ]
  },
  {
   "cell_type": "code",
   "execution_count": null,
   "id": "51f24812620cea30",
   "metadata": {
    "ExecuteTime": {
     "end_time": "2025-08-21T17:24:00.801414Z",
     "start_time": "2025-08-21T17:24:00.782187Z"
    }
   },
   "outputs": [],
   "source": [
    "eda.df.head()"
   ]
  },
  {
   "cell_type": "code",
   "execution_count": null,
   "id": "5c0905c9f03972a6",
   "metadata": {
    "ExecuteTime": {
     "end_time": "2025-08-21T17:24:03.436671Z",
     "start_time": "2025-08-21T17:24:00.808197Z"
    }
   },
   "outputs": [],
   "source": [
    "posteda = QuickView(eda.df, target=\"Heart Attack Risk (Binary)\").report()"
   ]
  },
  {
   "cell_type": "markdown",
   "id": "29be4abc4d9addd1",
   "metadata": {},
   "source": [
    "## Final findings from exploratory data analysis (EDA)\n",
    "\n",
    "### 1. Train set (training data)\n",
    "- **Target variable**:\n",
    "  - `Heart Attack Risk (Binary)` is imbalanced: roughly **65% class 0 (low risk)** and **35% class 1 (high risk)**.\n",
    "  - This proportion is acceptable but requires careful metric selection. The **Recall/F2** metric may be preferable to Accuracy to avoid missing rare positive cases.\n",
    "\n",
    "- **Missing values**:\n",
    "  - Found **243 rows with multiple missing values** (about 3% of the dataset).\n",
    "  - The gaps are **systemic**: entire blocks of values are missing for groups of patients, indicating data collection specifics rather than random errors.\n",
    "  - Solution: keep the `block_missing` flag and encode categorical gaps as `Unknown`. This allows the model to use the fact of a \"missing block\" as a potential risk factor.\n",
    "\n",
    "- **Feature typing**:\n",
    "  - Binary features (`Gender`, `Smoking`, `Diabetes`, `Family History`) converted to **boolean**.\n",
    "  - Categorical features (`Diet`, `Alcohol Consumption`) converted to **categorical** type.\n",
    "  - Discrete variables (`Stress Level`, `Physical Activity Days Per Week`) converted to **integers**.\n",
    "  - Continuous features (`Cholesterol`, `BMI`, `Blood Pressure`) left as numeric.\n",
    "\n",
    "---\n",
    "\n",
    "### 2. Test set (data for final evaluation)\n",
    "- **Overall structure**:\n",
    "  - The distributions of the test data are comparable to the train set, indicating they come from the same population.\n",
    "  - The balance of key features is preserved; categorical shares and ranges of numerical variables remain within train limits.\n",
    "\n",
    "- **Missing values**:\n",
    "  - Systemic gaps are also present in the test set; the structure matches the train data.\n",
    "  - The `block_missing` flag and encoded categorical `Unknown` values enable processing these cases without losing information.\n",
    "\n",
    "- **Anomalies and outliers**:\n",
    "  - Extreme values in the test set fall within train ranges; no new artifacts were found.\n",
    "  - This reduces the risk that the model encounters unknown patterns.\n",
    "\n",
    "---\n",
    "\n",
    "### 3. Overall dataset summary\n",
    "- After preprocessing, **there are no `NaN` gaps**: they are either replaced with categorical `Unknown` values or moved to a separate flag.\n",
    "- Class balance is sufficient for proper training but requires metrics that account for Recall.\n",
    "- Feature typing is strict: boolean, categorical, numerical, and discrete values are converted to the correct format.\n",
    "- Systemic gaps are captured through the `block_missing` factor, preserving their informativeness instead of discarding data.\n",
    "- Feature distributions in the test set match those in the train set, ensuring model transferability.\n",
    "- Bottom line: the data are ready for training, the structure is clean and reproducible, and they reflect both \"direct\" risk factors (biochemistry, blood pressure) and \"indirect\" ones (systemic gaps).\n",
    "\n",
    "✅ Thus, we have a clean and ready dataset in which **all original information is preserved**, including hidden patterns in the missing values. This lays the foundation for building a stable model and sound validation.\n",
    "\n",
    "---\n"
   ]
  },
  {
   "cell_type": "code",
   "execution_count": null,
   "id": "af75d9917b5facf3",
   "metadata": {
    "ExecuteTime": {
     "end_time": "2025-08-21T17:25:53.243953Z",
     "start_time": "2025-08-21T17:24:03.472584Z"
    }
   },
   "outputs": [],
   "source": [
    "# ==== 1) Training and model selection ====\n",
    "# Loading raw data\n",
    "train_df = pd.read_csv(TRAIN_PATH)\n",
    "\n",
    "# Train and choose the best model\n",
    "job = HeartRiskJob(RunCfg())\n",
    "meta = job.run_and_save(train_df)\n",
    "\n"
   ]
  },
  {
   "cell_type": "code",
   "execution_count": null,
   "id": "93bcf42ba73e1ce8",
   "metadata": {
    "ExecuteTime": {
     "end_time": "2025-08-21T17:25:53.507609Z",
     "start_time": "2025-08-21T17:25:53.313102Z"
    }
   },
   "outputs": [],
   "source": [
    "# ==== 2) Load the model ====\n",
    "inf = HeartRiskInference.from_dir()\n",
    "print(inf.meta())\n",
    "\n"
   ]
  },
  {
   "cell_type": "code",
   "execution_count": null,
   "id": "3818d0dec8f5fe51",
   "metadata": {
    "ExecuteTime": {
     "end_time": "2025-08-21T17:25:53.661594Z",
     "start_time": "2025-08-21T17:25:53.511511Z"
    }
   },
   "outputs": [],
   "source": [
    "# ==== 3) Predict on heart_test.csv ====\n",
    "df_test = pd.read_csv(Path.cwd().parent / \"data\" / \"heart_test.csv\")\n",
    "\n",
    "# Predictions and distribution\n",
    "print(inf.predict(df_test).head())\n",
    "print(inf.class_distribution(df_test))\n",
    "\n"
   ]
  },
  {
   "cell_type": "code",
   "execution_count": null,
   "id": "7fecd76a8a40997d",
   "metadata": {
    "ExecuteTime": {
     "end_time": "2025-08-21T17:25:53.738569Z",
     "start_time": "2025-08-21T17:25:53.665371Z"
    }
   },
   "outputs": [],
   "source": [
    "# ==== 4) Inference report on heart_test.csv ====\n",
    "SimpleInferenceSummary().run(inf, test_df)\n",
    "\n"
   ]
  },
  {
   "cell_type": "code",
   "execution_count": null,
   "id": "47c31ba1a155e7e1",
   "metadata": {
    "ExecuteTime": {
     "end_time": "2025-08-21T17:27:15.030497Z",
     "start_time": "2025-08-21T17:25:53.742653Z"
    }
   },
   "outputs": [],
   "source": [
    "# Web application for heart attack risk screening\n",
    "nest_asyncio.apply()\n",
    "uvicorn.run(app, host=\"127.0.0.1\", port=_choose_free_port(8000), reload=False)\n"
   ]
  },
  {
   "cell_type": "markdown",
   "id": "3654221308957e07",
   "metadata": {},
   "source": [
    "## Results: inference of the best model and run on the test set\n",
    "\n",
    "## 1) Deserialization and metadata\n",
    "\n",
    "- The model was successfully loaded via `HeartRiskInference.from_dir()` based on artifacts in `./artifacts`.\n",
    "- **Model format:** `joblib` (`best_model.joblib`) — appropriate for sklearn models.\n",
    "- **Model key:** `rf` (RandomForest), **classification threshold:** `0.22`.\n",
    "- **Features in the pipeline (21):** clinical and social profile plus the engineered flag `block_missing`.\n",
    "- **Categoricals:** only `Diet` (handled as a category without leakage).\n",
    "- Data preparation at inference matches the train flow: `EDAAnalyzer` → alignment by the `features` list → missing columns filled with 0 → prediction.\n",
    "\n",
    "## 2) Results on `heart_test.csv`\n",
    "\n",
    "- Total processed: **966 patients**.\n",
    "- Applied classification threshold **0.22**.\n",
    "- Final class distribution:\n",
    "    - **Class 1 (\"risk\"): 879 (≈91.0%)**\n",
    "    - **Class 0 (\"no risk\"): 87 (≈9.0%)**\n",
    "\n",
    "``` python\n",
    "{'n': 966,\n",
    " 'threshold': 0.22,\n",
    " 'n_pos': 879,\n",
    " 'n_neg': 87,\n",
    " 'pos_rate': 0.9099}\n",
    "```\n",
    "\n",
    "- Probability (`proba`) distribution on the test set:\n",
    "    - Mean: **0.34**, median: **0.35**\n",
    "    - Range: **0.01 -- 0.97**\n",
    "    - Most predictions lie in **0.25--0.45**\n",
    "    - There are both **very low (<0.05)** and **very high (>0.9)** confidences.\n",
    "\n",
    "Thus, the model does not \"stick\" to a single probability value and clearly differentiates patient subgroups, highlighting both obviously \"low-risk\" and obviously \"high-risk\" patients.\n",
    "\n",
    "## 3) Interpretation and alignment with EDA\n",
    "\n",
    "- Preprocessing is identical to the train pipeline, including categorical features and missing-value handling.\n",
    "- Threshold **0.22** was chosen to maximize **F2/Recall**, making the model sensitive to risk (most patients fall into class \"1\").\n",
    "- Such a profile is **appropriate for screening tasks**, where minimizing FN is crucial even at the cost of higher FP.\n",
    "\n",
    "## 4) Web application: status and artifact\n",
    "\n",
    "- The FastAPI service started successfully; endpoints `GET /`, `POST /predict` and `GET /download` were tested.\n",
    "- The downloaded CSV `id, prediction`.\n",
    "- The end user can obtain predictions via the web page or the API.\n",
    "\n",
    "## 5) Risks and possible improvements\n",
    "\n",
    "- **Threshold:** the cutoff can be adjusted (0.25--0.3) to balance FP/FN for different scenarios.\n",
    "- **Probability calibration:** Platt scaling or Isotonic Regression can improve `proba` interpretability.\n",
    "- **Error analysis:** further study of FP/FN cases may reveal hidden patterns.\n",
    "- **Stability:** fix library versions and artifacts for reproducibility.\n",
    "\n",
    "------------------------------------------------------------------------\n",
    "\n",
    "**Conclusion:**\n",
    "The best model is `RandomForest` without leakage, with a threshold of **0.22**. It performs inference on the test dataset (966 samples), clearly differentiates patients by probability, and is integrated into the web service. The model is optimized for Recall, matching the screening goals: ready for demonstration and further use.\n",
    "\n",
    "---\n"
   ]
  },
  {
   "cell_type": "markdown",
   "id": "7fe7d7c683aecbdd",
   "metadata": {},
   "source": [
    "# Overall summary for Project M1: Heart Disease Risk Prediction\n",
    "\n",
    "## Project goal\n",
    "Develop a machine learning model and web application to predict heart disease risk in patients based on medical data. The solution should include data exploration (EDA), model training, metric selection, artifact preparation, and creation of a FastAPI service for inference.\n",
    "\n",
    "## Key steps and results\n",
    "\n",
    "### 1. Data exploration and preprocessing\n",
    "- Performed detailed exploratory data analysis (EDA).\n",
    "- Identified systemic missing values (≈3%), preserved through the binary flag `block_missing`.\n",
    "- Feature types converted to appropriate formats: boolean, categorical, numerical, discrete.\n",
    "- Train and test data are comparable in structure and distributions.\n",
    "\n",
    "**Result:** a clean and reproducible dataset with all information preserved, including systemic gaps.\n",
    "\n",
    "### 2. Model training and selection\n",
    "- Compared several models (CatBoost, HistGB, RandomForest).\n",
    "- Selection metric — **Recall/F2**, priority: do not miss high-risk patients.\n",
    "- Best model: **RandomForest (rf)** without leakage, with an optimal classification threshold of **0.22**.\n",
    "- Artifacts saved: `best_model.joblib` and `best_meta.json`.\n",
    "\n",
    "### 3. Inference on the test set\n",
    "- Processed **966 patients** from `heart_test.csv`.\n",
    "- Final class distribution:\n",
    "  - Class 1 (\"risk\"): **879 (≈91.0%)**\n",
    "  - Class 0 (\"no risk\"): **87 (≈9.0%)**\n",
    "- Probability distribution `proba`:\n",
    "  - Mean: 0.34, median: 0.35\n",
    "  - Range: 0.01 – 0.97\n",
    "  - Main mass: 0.25–0.45\n",
    "  - Both very low (<0.05) and very high (>0.9) confidences exist.\n",
    "\n",
    "**Conclusion:** the model does not \"stick\" to one probability value and differentiates patient groups by risk.\n",
    "\n",
    "### 4. Web application (FastAPI)\n",
    "- Implemented an inference service:\n",
    "  - web form for CSV upload,\n",
    "  - JSON endpoints,\n",
    "  - CSV download button\n",
    "\n",
    "---\n",
    "\n",
    "## Summary\n",
    "\n",
    "- data explored and prepared,\n",
    "- models trained and compared,\n",
    "- best model selected and saved (RandomForest, threshold 0.22),\n",
    "- reproducible ML pipeline implemented,\n",
    "- FastAPI application developed for inference.\n"
   ]
  },
  {
   "cell_type": "code",
   "execution_count": null,
   "id": "beb17e8a47ab3c0e",
   "metadata": {
    "ExecuteTime": {
     "end_time": "2025-08-21T17:27:15.059395Z",
     "start_time": "2025-08-21T17:27:15.057963Z"
    }
   },
   "outputs": [],
   "source": []
  }
 ],
 "metadata": {
  "kernelspec": {
   "display_name": "Python 3",
   "language": "python",
   "name": "python3"
  },
  "language_info": {
   "codemirror_mode": {
    "name": "ipython",
    "version": 2
   },
   "file_extension": ".py",
   "mimetype": "text/x-python",
   "name": "python",
   "nbconvert_exporter": "python",
   "pygments_lexer": "ipython2",
   "version": "2.7.6"
  }
 },
 "nbformat": 4,
 "nbformat_minor": 5
}
